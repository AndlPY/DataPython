{
  "nbformat": 4,
  "nbformat_minor": 0,
  "metadata": {
    "colab": {
      "provenance": [],
      "authorship_tag": "ABX9TyN7iO45A7KeUMz2y6p5aFSx"
    },
    "kernelspec": {
      "name": "python3",
      "display_name": "Python 3"
    },
    "language_info": {
      "name": "python"
    }
  },
  "cells": [
    {
      "cell_type": "code",
      "execution_count": null,
      "metadata": {
        "collapsed": true,
        "id": "dtxybYpKqQoN"
      },
      "outputs": [],
      "source": [
        "!pip install -U ultralytics opencv-python onnx onnxruntime\n"
      ]
    },
    {
      "cell_type": "code",
      "source": [
        "from ultralytics import YOLO\n",
        "import numpy as np, cv2, os\n",
        "from google.colab import files\n",
        "from google.colab.patches import cv2_imshow"
      ],
      "metadata": {
        "collapsed": true,
        "id": "IWPUW7MGulbm"
      },
      "execution_count": null,
      "outputs": []
    },
    {
      "cell_type": "code",
      "source": [
        "def detect_and_draw(img_bgr, conf=0.25, iou=0.45, imgsz=640, device=\"cpu\",  preview_max_side=720):\n",
        "\n",
        "    res = model(img_bgr, imgsz=imgsz, conf=conf, iou=iou, device=device)[0]\n",
        "    vis = res.plot()  # малює бокси/лейбли на копії зображення (BGR)\n",
        "\n",
        "    #маштабуемо вихідне зображення\n",
        "    if preview_max_side is not None:\n",
        "        h, w = vis.shape[:2]\n",
        "        s = max(h, w)\n",
        "        if s > preview_max_side:\n",
        "            scale = preview_max_side / s\n",
        "            vis = cv2.resize(vis, (int(w*scale), int(h*scale)), interpolation=cv2.INTER_AREA)\n",
        "\n",
        "    #для логу/збереження\n",
        "    dets = [\n",
        "        {\n",
        "          \"cls_id\": int(c),\n",
        "          \"cls_name\": res.names[int(c)],\n",
        "          \"conf\": float(p),\n",
        "          \"xyxy\": [int(x) for x in b]\n",
        "        }\n",
        "        for b, c, p in zip(res.boxes.xyxy.cpu().numpy(),\n",
        "                           res.boxes.cls.cpu().numpy(),\n",
        "                           res.boxes.conf.cpu().numpy())\n",
        "    ]\n",
        "    return vis, dets\n",
        "model = YOLO('yolov8m.pt')\n",
        "model.export(format='onnx', opset=12)"
      ],
      "metadata": {
        "collapsed": true,
        "id": "FLoKnhToTZcm"
      },
      "execution_count": null,
      "outputs": []
    },
    {
      "cell_type": "code",
      "source": [
        "# відкриє кнопку \"Choose files\"\n",
        "uploaded = files.upload()\n",
        "\n",
        "for fname, content in uploaded.items():\n",
        "    # декодуємо будь-який поширений формат у BGR (без проміжного JPG)\n",
        "    arr = np.frombuffer(content, np.uint8)\n",
        "    img = cv2.imdecode(arr, cv2.IMREAD_COLOR)\n",
        "    if img is None:\n",
        "        print(f\"[!] File {fname} not found \")\n",
        "    else:\n",
        "      print('Image decode ✅')\n",
        "\n",
        "vis, dets = detect_and_draw(img, preview_max_side=600)                 # запускаємо детекцію й малювання\n",
        "cv2_imshow(vis)"
      ],
      "metadata": {
        "collapsed": true,
        "id": "j8QDetjdwhD3"
      },
      "execution_count": null,
      "outputs": []
    }
  ]
}